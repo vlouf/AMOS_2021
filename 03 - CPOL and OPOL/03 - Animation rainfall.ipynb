{
 "cells": [
  {
   "cell_type": "markdown",
   "metadata": {},
   "source": [
    "# Rain fall over Darwin, NT, for season 2016/2017\n",
    "\n",
    "![cumulrain](img/cumul_rain_timeseries_2016.png)\n",
    "\n",
    "The highest peak is around 4 March 2017. Let's take a closer look for the whole day"
   ]
  },
  {
   "cell_type": "code",
   "execution_count": null,
   "metadata": {
    "ExecuteTime": {
     "end_time": "2020-02-06T03:21:50.384960Z",
     "start_time": "2020-02-06T03:21:49.932528Z"
    }
   },
   "outputs": [],
   "source": [
    "%matplotlib notebook"
   ]
  },
  {
   "cell_type": "code",
   "execution_count": null,
   "metadata": {
    "ExecuteTime": {
     "end_time": "2020-02-06T03:21:52.176530Z",
     "start_time": "2020-02-06T03:21:50.386643Z"
    }
   },
   "outputs": [],
   "source": [
    "import numpy as np\n",
    "import xarray as xr\n",
    "import matplotlib.pyplot as plt"
   ]
  },
  {
   "cell_type": "code",
   "execution_count": null,
   "metadata": {
    "ExecuteTime": {
     "end_time": "2020-02-06T03:21:52.355484Z",
     "start_time": "2020-02-06T03:21:52.180178Z"
    }
   },
   "outputs": [],
   "source": [
    "dset_rain = xr.open_dataset('data/twp1440cpol.rainfall.c1.20170304.nc')\n",
    "dset_class = xr.open_dataset('data/twp1440cpol.steinerclass.c1.20170304.nc')\n",
    "\n",
    "rain = dset_rain.radar_estimated_rain_rate.values\n",
    "stein = dset_class.steiner_echo_classification.values"
   ]
  },
  {
   "cell_type": "code",
   "execution_count": null,
   "metadata": {
    "ExecuteTime": {
     "end_time": "2020-02-06T03:21:52.371055Z",
     "start_time": "2020-02-06T03:21:52.358681Z"
    }
   },
   "outputs": [],
   "source": [
    "th = np.linspace(0, 6.28)\n",
    "class IndexTracker(object):\n",
    "    def __init__(self, fig, ax, X, X1):\n",
    "        self.ax = ax\n",
    "#         ax.set_title('use scroll wheel to navigate images')\n",
    "\n",
    "        self.X = X\n",
    "        self.X1 = X1\n",
    "        self.slices, rows, cols = X.shape\n",
    "        self.ind = 0        \n",
    "        self.im0 = ax[0].imshow(self.X[self.ind, :, :], \n",
    "                                origin='lower', \n",
    "                                extent=[-150, 150, -150, 150], \n",
    "                                vmin=0, vmax=50, \n",
    "                                cmap='Blues')\n",
    "        self.im1 = ax[1].imshow(self.X1[self.ind, :, :], \n",
    "                                origin='lower', \n",
    "                                extent=[-150, 150, -150, 150], \n",
    "                                vmin=0, vmax=2, \n",
    "                                cmap='viridis')\n",
    "        \n",
    "        fig.colorbar(self.im0, ax=self.ax[0], orientation='horizontal', label='Rainfall rate (mm/h)')\n",
    "        cbar = fig.colorbar(self.im1, ax=self.ax[1], orientation='horizontal', label='Steiner Classification')\n",
    "        cbar.set_ticks([0, 1, 2])\n",
    "        cbar.ax.set_xticklabels(['No cloud', 'Stratiform', 'Convective'], rotation=45)\n",
    "        for a in ax:\n",
    "            [a.plot(r * np.cos(th), r*np.sin(th), 'k', linewidth=1, alpha=0.75) for r in [50, 100, 147.5]]\n",
    "            a.axis('off')\n",
    "        \n",
    "        self.ax[0].set_title(f'Darwin - 4 March 2017')\n",
    "\n",
    "        self.update()\n",
    "\n",
    "    def onscroll(self, event):\n",
    "        print(\"%s %s\" % (event.button, event.step))\n",
    "        if event.button == 'up':\n",
    "            self.ind = (self.ind + 1) % self.slices\n",
    "        else:\n",
    "            self.ind = (self.ind - 1) % self.slices\n",
    "        self.update()\n",
    "\n",
    "    def update(self):\n",
    "        self.im0.set_data(self.X[self.ind, :, :])\n",
    "        self.im1.set_data(self.X1[self.ind, :, :])\n",
    "        self.ax[1].set_title(f'Slice at {self.ind // 6:02}:{10*(self.ind % 6):02} UTC')\n",
    "        self.im0.axes.figure.canvas.draw()\n",
    "        self.im1.axes.figure.canvas.draw()"
   ]
  },
  {
   "cell_type": "code",
   "execution_count": null,
   "metadata": {
    "ExecuteTime": {
     "end_time": "2020-02-06T03:21:52.605540Z",
     "start_time": "2020-02-06T03:21:52.372361Z"
    }
   },
   "outputs": [],
   "source": [
    "fig, ax = plt.subplots(1, 2, sharex=True, sharey=True)\n",
    "tracker = IndexTracker(fig, ax, rain, stein)\n",
    "fig.canvas.mpl_connect('scroll_event', tracker.onscroll)\n",
    "fig.suptitle('Use scroll wheel to change time step')\n",
    "plt.show()"
   ]
  },
  {
   "cell_type": "markdown",
   "metadata": {},
   "source": [
    "Now, let's open next notebook and extract relevant statistics from these data files."
   ]
  },
  {
   "cell_type": "code",
   "execution_count": null,
   "metadata": {},
   "outputs": [],
   "source": []
  }
 ],
 "metadata": {
  "kernelspec": {
   "display_name": "Python 3",
   "language": "python",
   "name": "python3"
  },
  "language_info": {
   "codemirror_mode": {
    "name": "ipython",
    "version": 3
   },
   "file_extension": ".py",
   "mimetype": "text/x-python",
   "name": "python",
   "nbconvert_exporter": "python",
   "pygments_lexer": "ipython3",
   "version": "3.8.5"
  },
  "varInspector": {
   "cols": {
    "lenName": 16,
    "lenType": 16,
    "lenVar": 40
   },
   "kernels_config": {
    "python": {
     "delete_cmd_postfix": "",
     "delete_cmd_prefix": "del ",
     "library": "var_list.py",
     "varRefreshCmd": "print(var_dic_list())"
    },
    "r": {
     "delete_cmd_postfix": ") ",
     "delete_cmd_prefix": "rm(",
     "library": "var_list.r",
     "varRefreshCmd": "cat(var_dic_list()) "
    }
   },
   "types_to_exclude": [
    "module",
    "function",
    "builtin_function_or_method",
    "instance",
    "_Feature"
   ],
   "window_display": false
  }
 },
 "nbformat": 4,
 "nbformat_minor": 4
}
