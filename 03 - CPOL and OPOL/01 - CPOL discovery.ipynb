{
 "cells": [
  {
   "cell_type": "markdown",
   "metadata": {},
   "source": [
    "# CPOL radar\n",
    "\n",
    "CPOL is a dual-polarisation C-band radar that have been producing data since 1998. It has been referenced by a 100+ publications and it is actively used by a large community in Australia and around the world. CPOL is unique, as it is the only dual-polarisation radar in the Tropics. It has been used by NASA to calibrate the satellite TRMM.\n",
    "\n",
    "![cpol](img/cpol.jpg)"
   ]
  },
  {
   "cell_type": "markdown",
   "metadata": {},
   "source": [
    "The aim of this notebook is to get a hand on CPOL data and discover what's inside and how to represent of manipulate the data."
   ]
  },
  {
   "cell_type": "code",
   "execution_count": null,
   "metadata": {},
   "outputs": [],
   "source": [
    "%matplotlib inline\n",
    "import os\n",
    "import datetime\n",
    "import warnings\n",
    "\n",
    "import pyart\n",
    "import requests\n",
    "import numpy as np\n",
    "import pandas as pd\n",
    "import seaborn as sns\n",
    "\n",
    "import matplotlib.pyplot as plt\n",
    "import matplotlib.colors as colors\n",
    "from matplotlib.colors import LogNorm"
   ]
  },
  {
   "cell_type": "code",
   "execution_count": null,
   "metadata": {},
   "outputs": [],
   "source": [
    "warnings.simplefilter(\"ignore\")\n",
    "sns.set_style(\"whitegrid\")"
   ]
  },
  {
   "cell_type": "code",
   "execution_count": null,
   "metadata": {},
   "outputs": [],
   "source": [
    "def download_cpol_data(date: datetime.datetime, ppi: bool=True) -> str:\n",
    "    \"\"\"\n",
    "    Download CPOL data for given date. \n",
    "    \n",
    "    Parameters:\n",
    "    ===========\n",
    "    date: str or datetime or pd.Timestamp\n",
    "        Date time for which we want the CPOL data\n",
    "    ppi: bool\n",
    "        True for downloading the PPIs and False for downloading the gridded data.\n",
    "    \"\"\"\n",
    "    date = pd.Timestamp(date)\n",
    "    if date.minute % 10 != 0:\n",
    "        raise ValueError(\"CPOL data is every 10 minutes.\")\n",
    "    year = date.year\n",
    "    datestr = date.strftime(\"%Y%m%d\")\n",
    "    datetimestr = date.strftime(\"%Y%m%d.%H%M\")\n",
    "    if ppi:\n",
    "        url = f\"http://dapds00.nci.org.au/thredds/fileServer/hj10/cpol/cpol_level_1b/v2020/ppi/{year}/{datestr}/twp10cpolppi.b1.{datetimestr}00.nc\"\n",
    "    else:\n",
    "        url = f\"http://dapds00.nci.org.au/thredds/fileServer/hj10/cpol/cpol_level_1b/v2020/gridded/grid_150km_2500m/{year}/{datestr}/twp10cpolppi.b1.{datetimestr}00.nc\"\n",
    "    \n",
    "    fname = os.path.basename(url)\n",
    "    try:\n",
    "        os.mkdir(\"dwl\")\n",
    "    except FileExistsError:\n",
    "        pass\n",
    "    outfilename = os.path.join(\"dwl\", fname)\n",
    "    if os.path.isfile(outfilename):\n",
    "        print(\"Output file already exists, doing nothing\")\n",
    "        return outfilename\n",
    "    \n",
    "    r = requests.get(url)\n",
    "    try:\n",
    "        r.raise_for_status()\n",
    "    except Exception:\n",
    "        print(\"No file found for this date. CPOL ran from 1998-12-6 to 2017-5-2, wet season only. Try another date.\")\n",
    "        return None\n",
    "    \n",
    "    with open(outfilename, \"wb\") as fid:\n",
    "        fid.write(r.content)\n",
    "\n",
    "    return outfilename"
   ]
  },
  {
   "cell_type": "code",
   "execution_count": null,
   "metadata": {},
   "outputs": [],
   "source": [
    "date = datetime.datetime(2014, 2, 18, 20, 0)"
   ]
  },
  {
   "cell_type": "code",
   "execution_count": null,
   "metadata": {},
   "outputs": [],
   "source": [
    "filename = download_cpol_data(date)"
   ]
  },
  {
   "cell_type": "markdown",
   "metadata": {},
   "source": [
    "Let's open file with Py-ART.\n",
    "\n",
    "Py-ART is a Python library that helps with handeling radar data. Radars have been running for a long time, and each manufacturer, and each era have their different file formats. Jungleling between file format is difficult, and Py-ART helps do that, it reads and convert everything to the CF/Radial convention.\n",
    "\n",
    "Py-ART also provide a set of correction, retrievals and utilities. It's not just about the input/output of data!"
   ]
  },
  {
   "cell_type": "code",
   "execution_count": null,
   "metadata": {
    "scrolled": true
   },
   "outputs": [],
   "source": [
    "radar = pyart.io.read(filename)"
   ]
  },
  {
   "cell_type": "markdown",
   "metadata": {},
   "source": [
    "Let's look at the documentation. What is the variable defined as \"radar\"?"
   ]
  },
  {
   "cell_type": "code",
   "execution_count": null,
   "metadata": {
    "scrolled": false
   },
   "outputs": [],
   "source": [
    "radar?"
   ]
  },
  {
   "cell_type": "markdown",
   "metadata": {},
   "source": [
    "We see that the object \"radar\" contains a lot of attributes. The first 3 ones are:\n",
    "\n",
    "time : dict\n",
    "\n",
    "    Time at the center of each ray.\n",
    "    \n",
    "range : dict\n",
    "\n",
    "    Range to the center of each gate (bin).\n",
    "    \n",
    "fields : dict of dicts\n",
    "\n",
    "    Moment fields."
   ]
  },
  {
   "cell_type": "code",
   "execution_count": null,
   "metadata": {},
   "outputs": [],
   "source": [
    "# Let's see what fields are present in the radar:\n",
    "print(\"\\n\".join(radar.fields.keys()))"
   ]
  },
  {
   "cell_type": "code",
   "execution_count": null,
   "metadata": {},
   "outputs": [],
   "source": [
    "gr = pyart.graph.RadarDisplay(radar)"
   ]
  },
  {
   "cell_type": "code",
   "execution_count": null,
   "metadata": {},
   "outputs": [],
   "source": [
    "gr.plot_ppi(\"corrected_reflectivity\", vmin=-15, vmax=65)\n",
    "plt.show()"
   ]
  },
  {
   "cell_type": "markdown",
   "metadata": {},
   "source": [
    "# A bit of theory\n",
    "\n",
    "The image above is a PPI. A plan position indicator (PPI) is a type of radar display that represents the radar antenna in the center of the display, with the distance from it and height above ground drawn as concentric circles. As the radar antenna rotates, a radial trace on the PPI sweeps in unison with it about the center point. It is the most common type of radar display.\n",
    "\n",
    "The radar antenna sends pulses while rotating 360 degrees around the radar site at a fixed elevation angle. It can then change angle or repeat at the same angle according to the need. Return echoes from targets are received by the antenna and processed by the receiver and the most direct display of those data is the PPI. From the figure above, can you tell what was elevation angle of the PPI?\n",
    "\n",
    "By doing measurements at different elevation angles, we obtain a 3D volumetric scan of the atmosphere."
   ]
  },
  {
   "cell_type": "code",
   "execution_count": null,
   "metadata": {},
   "outputs": [],
   "source": [
    "elevations = np.round([radar.elevation['data'][i].mean() for i in radar.iter_slice()], 1)"
   ]
  },
  {
   "cell_type": "code",
   "execution_count": null,
   "metadata": {},
   "outputs": [],
   "source": [
    "elevations"
   ]
  },
  {
   "cell_type": "code",
   "execution_count": null,
   "metadata": {},
   "outputs": [],
   "source": [
    "# Let's see how the radar perform the volumetric scan of the atmosphere\n",
    "\n",
    "r = np.linspace(0, 150)  # radar range here goes to 150 km\n",
    "earth_radius = 6371  # km, we want to correct for the earth sphericity, cause it's not flat.\n",
    "beamwidth = 1 # Radar beamwidth in degree"
   ]
  },
  {
   "cell_type": "code",
   "execution_count": null,
   "metadata": {},
   "outputs": [],
   "source": [
    "fig = plt.figure(figsize=(12, 7))\n",
    "for e in elevations:\n",
    "    y1 =  r * np.tan(np.pi * (e - beamwidth / 2) / 180) + np.sqrt(r ** 2 + earth_radius ** 2) - earth_radius\n",
    "    y2 =  r * np.tan(np.pi * (e + beamwidth / 2) / 180) + np.sqrt(r ** 2 + earth_radius ** 2) - earth_radius\n",
    "    y =   r * np.tan(np.pi * (e) / 180) + np.sqrt(r ** 2 + earth_radius ** 2) - earth_radius\n",
    "    plt.fill_between(r, y1, y2, alpha=0.5, edgecolor=\"k\")\n",
    "    plt.plot(r, y, label=f\"{e:0.3}$^\\circ$\")\n",
    "    \n",
    "plt.legend()\n",
    "plt.yticks(np.arange(0, 20.1, 1))\n",
    "plt.ylim(0, 20)\n",
    "plt.xlabel(\"Range (km)\")\n",
    "plt.ylabel(\"Altitude Above Ground Level (km)\")\n",
    "plt.title(\"Radar scan - elevation\")\n",
    "fig.tight_layout()\n",
    "\n",
    "plt.show()"
   ]
  },
  {
   "cell_type": "markdown",
   "metadata": {},
   "source": [
    "Now let's plot all the radar sweeps, i.e. all the scans at a fixed elevation angle"
   ]
  },
  {
   "cell_type": "code",
   "execution_count": null,
   "metadata": {},
   "outputs": [],
   "source": [
    "radar.nsweeps  # That's the total number of elevation "
   ]
  },
  {
   "cell_type": "code",
   "execution_count": null,
   "metadata": {
    "scrolled": false
   },
   "outputs": [],
   "source": [
    "fig, ax = plt.subplots(5, 3, figsize=(15, 20))\n",
    "ax = ax.ravel()\n",
    "\n",
    "for i in range(radar.nsweeps):\n",
    "    gr.plot_ppi(\"corrected_reflectivity\", sweep=i, vmin=-15, vmax=65, ax=ax[i])\n",
    "    gr.plot_range_rings([50, 100, 150], ax=ax[i], lw=1)\n",
    "    ax[i].set_aspect(1)\n",
    "    \n",
    "fig.tight_layout()\n",
    "plt.show()"
   ]
  },
  {
   "cell_type": "markdown",
   "metadata": {},
   "source": [
    "Another interesting way of representing the data is to do a vertical cross-section along a specified azimuth:"
   ]
  },
  {
   "cell_type": "code",
   "execution_count": null,
   "metadata": {},
   "outputs": [],
   "source": [
    "xsect = pyart.util.cross_section_ppi(radar, [45, 90])\n",
    "display = pyart.graph.RadarDisplay(xsect)\n",
    "\n",
    "fig, ax = plt.subplots(2, 1, figsize=(12, 7))\n",
    "ax = ax.ravel()\n",
    "\n",
    "display.plot('corrected_reflectivity', 0, vmin=-15, vmax=65, ax=ax[0])\n",
    "display.plot('corrected_reflectivity', 1, vmin=-15, vmax=65, ax=ax[1])\n",
    "\n",
    "for a in ax:\n",
    "    a.set_ylim(0, 16)\n",
    "\n",
    "fig.tight_layout()\n",
    "plt.show()"
   ]
  },
  {
   "cell_type": "markdown",
   "metadata": {},
   "source": [
    "But wait! There's an interesting structure on the PPI North-West. How can I do a cross section of it? What's the azimuth?"
   ]
  },
  {
   "cell_type": "code",
   "execution_count": null,
   "metadata": {},
   "outputs": [],
   "source": [
    "azimuths = np.arange(0, 360, 20)"
   ]
  },
  {
   "cell_type": "code",
   "execution_count": null,
   "metadata": {},
   "outputs": [],
   "source": [
    "fig, ax = plt.subplots(1, 1, figsize=(12, 10))\n",
    "gr.plot_ppi(\"corrected_reflectivity\", sweep=0, ax=ax, vmin=-15, vmax=65)\n",
    "gr.plot_range_rings([50, 100, 150], ax=ax, lw=1)\n",
    "\n",
    "for a in azimuths:\n",
    "    theta = np.deg2rad((450 - a) % 360)\n",
    "    ax.plot([0, 150 * np.cos(theta)], [0, 150 * np.sin(theta)], label=f\"{a}$^\\circ$\")\n",
    "    \n",
    "plt.legend()\n",
    "ax.set_aspect(1)\n",
    "fig.tight_layout()\n",
    "plt.show()"
   ]
  },
  {
   "cell_type": "markdown",
   "metadata": {},
   "source": [
    "300 degree azimuth!"
   ]
  },
  {
   "cell_type": "code",
   "execution_count": null,
   "metadata": {},
   "outputs": [],
   "source": [
    "xsect = pyart.util.cross_section_ppi(radar, [100, 300])\n",
    "display = pyart.graph.RadarDisplay(xsect)\n",
    "\n",
    "fig, ax = plt.subplots(2, 1, figsize=(12, 7))\n",
    "ax = ax.ravel()\n",
    "\n",
    "display.plot('corrected_reflectivity', 0, vmin=-15, vmax=65, ax=ax[0])\n",
    "display.plot('corrected_reflectivity', 1, vmin=-15, vmax=65, ax=ax[1])\n",
    "\n",
    "for a in ax:\n",
    "    a.set_ylim(0, 16)\n",
    "\n",
    "fig.tight_layout()\n",
    "plt.show()"
   ]
  },
  {
   "cell_type": "markdown",
   "metadata": {},
   "source": [
    "Let's look at the difference between the corrected and uncorrected reflectivity. Can you spot the differences?"
   ]
  },
  {
   "cell_type": "code",
   "execution_count": null,
   "metadata": {},
   "outputs": [],
   "source": [
    "xsect = pyart.util.cross_section_ppi(radar, [300])\n",
    "display = pyart.graph.RadarDisplay(xsect)\n",
    "\n",
    "fig, ax = plt.subplots(2, 1, figsize=(12, 7))\n",
    "ax = ax.ravel()\n",
    "\n",
    "display.plot('corrected_reflectivity', 0, vmin=-15, vmax=65, ax=ax[0], cmap=\"pyart_NWSRef\")\n",
    "display.plot('total_power', 0, vmin=-15, vmax=65, ax=ax[1], cmap=\"pyart_NWSRef\")\n",
    "\n",
    "for a in ax:\n",
    "    a.set_ylim(0, 16)\n",
    "\n",
    "fig.tight_layout()\n",
    "plt.show()"
   ]
  },
  {
   "cell_type": "code",
   "execution_count": null,
   "metadata": {},
   "outputs": [],
   "source": [
    "# Just creating a custom colormap, you can disregard this cell and go to the next\n",
    "def _adjust_csu_scheme_colorbar_for_pyart(cb):\n",
    "    \"\"\"\n",
    "    Generate colorbar for the hydrometeor classification.\n",
    "    \"\"\"\n",
    "    cb.set_ticks(np.arange(0.55, 10, 0.9))\n",
    "    cb.ax.set_yticklabels(\n",
    "        [\n",
    "            \"None\",\n",
    "            \"Drizzle\",\n",
    "            \"Rain\",\n",
    "            \"Ice Crystals\",\n",
    "            \"Aggregates\",\n",
    "            \"Wet/Melting Snow\",\n",
    "            \"Vertically Aligned Ice\",\n",
    "            \"Low-Density Graupel\",\n",
    "            \"High-Density Graupel\",\n",
    "            \"Hail\",\n",
    "            \"Big Drops\",\n",
    "        ]\n",
    "    )\n",
    "    cb.ax.set_ylabel(\"\")\n",
    "    cb.ax.tick_params(length=0)\n",
    "    return cb\n",
    "\n",
    "# echo classification\n",
    "# create colormap\n",
    "hca_colors = [\n",
    "    \"White\",\n",
    "    \"LightBlue\",\n",
    "    \"SteelBlue\",\n",
    "    \"MediumBlue\",\n",
    "    \"Plum\",\n",
    "    \"MediumPurple\",\n",
    "    \"m\",\n",
    "    \"Green\",\n",
    "    \"YellowGreen\",\n",
    "    \"Gold\",\n",
    "    \"Red\",\n",
    "]\n",
    "hca_cmap = colors.ListedColormap(hca_colors)"
   ]
  },
  {
   "cell_type": "code",
   "execution_count": null,
   "metadata": {},
   "outputs": [],
   "source": [
    "gr = pyart.graph.RadarDisplay(radar)\n",
    "radar.fields['velocity']['standard_name'] = 'Velocity'\n",
    "radar.fields['corrected_velocity']['standard_name'] = 'Corrected_Velocity'"
   ]
  },
  {
   "cell_type": "code",
   "execution_count": null,
   "metadata": {},
   "outputs": [],
   "source": [
    "fig, ax = plt.subplots(3, 3, figsize=(16, 12), sharex=True, sharey=True, constrained_layout=True)\n",
    "ax = ax.flatten()\n",
    "\n",
    "gr.plot_ppi(\"corrected_reflectivity\", ax=ax[0], cmap=\"pyart_NWSRef\")\n",
    "gr.plot_ppi(\"radar_estimated_rain_rate\", ax=ax[1], norm=LogNorm(1e-2, 1e2))\n",
    "gr.plot_ppi(\"radar_echo_classification\", ax=ax[2], cmap=hca_cmap, vmin=0, vmax=10)\n",
    "gr.cbs[2] = _adjust_csu_scheme_colorbar_for_pyart(gr.cbs[2])\n",
    "gr.plot_ppi(\"corrected_differential_reflectivity\", ax=ax[3])\n",
    "gr.plot_ppi(\"corrected_differential_phase\", ax=ax[4], vmin=-180, vmax=180, cmap=\"pyart_Wild25\",)\n",
    "gr.plot_ppi(\"corrected_specific_differential_phase\", ax=ax[5], vmin=-2, vmax=5, cmap=\"pyart_Theodore16\",)\n",
    "gr.plot_ppi(\"velocity\", ax=ax[6], cmap=\"pyart_BuDRd18\", vmin=-30, vmax=30)\n",
    "gr.plot_ppi(\"corrected_velocity\", ax=ax[7], cmap=\"pyart_BuDRd18\", vmin=-30, vmax=30,)\n",
    "gr.plot_ppi(\"cross_correlation_ratio\", ax=ax[8], vmin=0.5, vmax=1.05)\n",
    "\n",
    "for a in ax:\n",
    "    gr.plot_range_rings([50, 100, 150], ax=a, lw=1, col=\"#CDCDCD\")\n",
    "    a.set_aspect(1)\n",
    "    a.set_xlim(-150, 150)\n",
    "    a.set_ylim(-150, 150)\n",
    "    \n",
    "plt.show()"
   ]
  },
  {
   "cell_type": "code",
   "execution_count": null,
   "metadata": {},
   "outputs": [],
   "source": [
    "xsect = pyart.util.cross_section_ppi(radar, [100, 300])\n",
    "display = pyart.graph.RadarDisplay(xsect)\n",
    "\n",
    "fig, ax = plt.subplots(3, 1, figsize=(12, 11))\n",
    "ax = ax.ravel()\n",
    "\n",
    "display.plot('corrected_reflectivity', 1, vmin=-15, vmax=65, cmap=\"pyart_NWSRef\", ax=ax[0])\n",
    "display.plot('corrected_specific_differential_phase', 1, vmin=-2, vmax=5, cmap=\"pyart_Theodore16\", ax=ax[1])\n",
    "display.plot('radar_echo_classification', 1, cmap=hca_cmap, vmin=0, vmax=10, ax=ax[2])\n",
    "display.cbs[2] = _adjust_csu_scheme_colorbar_for_pyart(display.cbs[2])\n",
    "\n",
    "for a in ax:\n",
    "    a.set_ylim(0, 16)\n",
    "    \n",
    "fig.tight_layout()\n",
    "plt.show()"
   ]
  },
  {
   "cell_type": "code",
   "execution_count": null,
   "metadata": {},
   "outputs": [],
   "source": []
  }
 ],
 "metadata": {
  "kernelspec": {
   "display_name": "Python 3",
   "language": "python",
   "name": "python3"
  },
  "language_info": {
   "codemirror_mode": {
    "name": "ipython",
    "version": 3
   },
   "file_extension": ".py",
   "mimetype": "text/x-python",
   "name": "python",
   "nbconvert_exporter": "python",
   "pygments_lexer": "ipython3",
   "version": "3.8.5"
  },
  "varInspector": {
   "cols": {
    "lenName": 16,
    "lenType": 16,
    "lenVar": 40
   },
   "kernels_config": {
    "python": {
     "delete_cmd_postfix": "",
     "delete_cmd_prefix": "del ",
     "library": "var_list.py",
     "varRefreshCmd": "print(var_dic_list())"
    },
    "r": {
     "delete_cmd_postfix": ") ",
     "delete_cmd_prefix": "rm(",
     "library": "var_list.r",
     "varRefreshCmd": "cat(var_dic_list()) "
    }
   },
   "types_to_exclude": [
    "module",
    "function",
    "builtin_function_or_method",
    "instance",
    "_Feature"
   ],
   "window_display": false
  }
 },
 "nbformat": 4,
 "nbformat_minor": 4
}
