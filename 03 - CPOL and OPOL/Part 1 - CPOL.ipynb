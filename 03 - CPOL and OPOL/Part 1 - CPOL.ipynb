{
 "cells": [
  {
   "cell_type": "markdown",
   "metadata": {},
   "source": [
    "# CPOL (C-band dual-POLarisation radar)\n",
    "\n",
    "C-POL was developed by the Bureau of Meteorology (BOM) and is a C-band radar capable of transmitting and receiving horizontal and vertical polarizations. Standard variables extracted include reflectivity, velocity, spectral width, differential reflectivity, differential phase shift, and cross correlation coefficient. The goal of CPOL is to provide information on tropical rainfall. This area has a monsoon climate affected by oceanic and continental convective systems and has been employed in a number of studies, providing quantitative measurements of rainfall.\n",
    "\n",
    "CPOL has been collecting tropical Monsoon data from 1998 to 2017 and for the length and quality of its archive, it really is a unique tool for studying tropical rainfall, precipitating systems, and the Monsoon."
   ]
  },
  {
   "cell_type": "code",
   "execution_count": null,
   "metadata": {},
   "outputs": [],
   "source": []
  }
 ],
 "metadata": {
  "kernelspec": {
   "display_name": "Python 3",
   "language": "python",
   "name": "python3"
  },
  "language_info": {
   "codemirror_mode": {
    "name": "ipython",
    "version": 3
   },
   "file_extension": ".py",
   "mimetype": "text/x-python",
   "name": "python",
   "nbconvert_exporter": "python",
   "pygments_lexer": "ipython3",
   "version": "3.8.5"
  }
 },
 "nbformat": 4,
 "nbformat_minor": 4
}
