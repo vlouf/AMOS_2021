{
 "cells": [
  {
   "cell_type": "code",
   "execution_count": null,
   "metadata": {
    "ExecuteTime": {
     "end_time": "2020-02-06T04:38:27.321892Z",
     "start_time": "2020-02-06T04:38:24.965941Z"
    }
   },
   "outputs": [],
   "source": [
    "import warnings\n",
    "import numpy as np\n",
    "import xarray as xr\n",
    "import pandas as pd\n",
    "import matplotlib.pyplot as plt"
   ]
  },
  {
   "cell_type": "code",
   "execution_count": null,
   "metadata": {},
   "outputs": [],
   "source": [
    "warnings.simplefilter(\"ignore\")"
   ]
  },
  {
   "cell_type": "code",
   "execution_count": null,
   "metadata": {
    "ExecuteTime": {
     "end_time": "2020-02-06T04:38:27.482044Z",
     "start_time": "2020-02-06T04:38:27.323686Z"
    }
   },
   "outputs": [],
   "source": [
    "dset_rain = xr.open_dataset('data/twp1440cpol.rainfall.c1.20170304.nc')\n",
    "dset_class = xr.open_dataset('data/twp1440cpol.steinerclass.c1.20170304.nc')\n",
    "\n",
    "rain = dset_rain.radar_estimated_rain_rate.values\n",
    "stein = dset_class.steiner_echo_classification.values"
   ]
  },
  {
   "cell_type": "code",
   "execution_count": null,
   "metadata": {
    "ExecuteTime": {
     "end_time": "2020-02-06T04:38:27.486763Z",
     "start_time": "2020-02-06T04:38:27.483857Z"
    }
   },
   "outputs": [],
   "source": [
    "x = np.linspace(-150, 150, 117)\n",
    "y = np.linspace(-150, 150, 117)\n",
    "theta = np.linspace(0, 2 * np.pi)"
   ]
  },
  {
   "cell_type": "code",
   "execution_count": null,
   "metadata": {
    "ExecuteTime": {
     "end_time": "2020-02-06T04:38:27.496170Z",
     "start_time": "2020-02-06T04:38:27.488219Z"
    }
   },
   "outputs": [],
   "source": [
    "step = 81\n",
    "midnight_rain = rain[step, :, :]\n",
    "midnight_class = stein[step, :, :]\n",
    "dtime = pd.Timestamp(dset_rain.time[step].to_pandas())"
   ]
  },
  {
   "cell_type": "code",
   "execution_count": null,
   "metadata": {
    "ExecuteTime": {
     "end_time": "2020-02-06T04:38:27.791663Z",
     "start_time": "2020-02-06T04:38:27.497771Z"
    }
   },
   "outputs": [],
   "source": [
    "fig, ax = plt.subplots(1, 2, sharex=True, sharey=True, figsize=(14, 10))\n",
    "\n",
    "im0 = ax[0].pcolormesh(x, y, midnight_rain, cmap='Blues', vmin=0)\n",
    "im1 = ax[1].pcolormesh(x, y, midnight_class, vmin=0, vmax=2)\n",
    "\n",
    "fig.colorbar(im0, ax=ax[0], orientation='horizontal', label='Rainfall rate (mm/h)')\n",
    "cbar = fig.colorbar(im1, ax=ax[1], orientation='horizontal', label='Strat/Conv class.')\n",
    "cbar.set_ticks([0, 1, 2])\n",
    "cbar.set_ticklabels(['N/A', 'Strat.', 'Conv.'])\n",
    "ax[0].set_title(f'CPOL - {dtime.isoformat()} UTC')\n",
    "\n",
    "for a in ax:\n",
    "    [a.plot(r * np.cos(theta), r * np.sin(theta), 'k', linewidth=1, alpha=0.75) for r in [50, 100, 150]]\n",
    "    a.set_aspect(1)  # To make the axes orthonormed\n",
    "    \n",
    "plt.show()"
   ]
  },
  {
   "cell_type": "markdown",
   "metadata": {},
   "source": [
    "## Exercise 1:\n",
    "\n",
    "Can you compute the mean:\n",
    "- 1) total rainfall rate,\n",
    "- 2) convective rainfall rate, \n",
    "- 3) stratiform rainfall rate, \n",
    "\n",
    "over the domain for the midnight scan?"
   ]
  },
  {
   "cell_type": "code",
   "execution_count": null,
   "metadata": {
    "ExecuteTime": {
     "end_time": "2020-02-06T04:00:04.097632Z",
     "start_time": "2020-02-06T04:00:04.094493Z"
    }
   },
   "outputs": [],
   "source": []
  },
  {
   "cell_type": "code",
   "execution_count": null,
   "metadata": {
    "ExecuteTime": {
     "end_time": "2020-02-06T04:38:27.795046Z",
     "start_time": "2020-02-06T04:38:27.792991Z"
    }
   },
   "outputs": [],
   "source": [
    "# Solution: %load solutions/0201.py"
   ]
  },
  {
   "cell_type": "markdown",
   "metadata": {},
   "source": [
    "## Exercise 2:\n",
    "\n",
    "The convective area fraction is the area occupied by convective rain divided by the total domain area. Can you compute for the midnight scan:\n",
    "- 1) the total area of clouds,\n",
    "- 2) the total area occupied by convective clouds,\n",
    "- 3) the convective area fraction?\n",
    "\n",
    "Note that the size of a pixel is 2.5 km by 2.5 km."
   ]
  },
  {
   "cell_type": "code",
   "execution_count": null,
   "metadata": {
    "ExecuteTime": {
     "end_time": "2020-02-06T03:59:53.632522Z",
     "start_time": "2020-02-06T03:59:53.629330Z"
    }
   },
   "outputs": [],
   "source": []
  },
  {
   "cell_type": "code",
   "execution_count": null,
   "metadata": {
    "ExecuteTime": {
     "end_time": "2020-02-06T04:38:27.802732Z",
     "start_time": "2020-02-06T04:38:27.796315Z"
    }
   },
   "outputs": [],
   "source": [
    "# Solution: %load solutions/0202.py"
   ]
  },
  {
   "cell_type": "markdown",
   "metadata": {},
   "source": [
    "This is not enough! I want to know the number of convective towers and the area of each convective tower!"
   ]
  },
  {
   "cell_type": "code",
   "execution_count": null,
   "metadata": {
    "ExecuteTime": {
     "end_time": "2020-02-06T04:38:27.824876Z",
     "start_time": "2020-02-06T04:38:27.804168Z"
    }
   },
   "outputs": [],
   "source": [
    "from scipy import ndimage"
   ]
  },
  {
   "cell_type": "code",
   "execution_count": null,
   "metadata": {
    "ExecuteTime": {
     "end_time": "2020-02-06T04:38:27.832499Z",
     "start_time": "2020-02-06T04:38:27.828893Z"
    }
   },
   "outputs": [],
   "source": [
    "conv_0 = midnight_class.astype(int)\n",
    "conv_0[conv_0 != 2] = 0"
   ]
  },
  {
   "cell_type": "code",
   "execution_count": null,
   "metadata": {
    "ExecuteTime": {
     "end_time": "2020-02-06T04:38:27.957295Z",
     "start_time": "2020-02-06T04:38:27.835185Z"
    }
   },
   "outputs": [],
   "source": [
    "plt.imshow(conv_0, origin='ij')\n",
    "plt.title('All the pixels that are not convective are now 0.')\n",
    "plt.show()"
   ]
  },
  {
   "cell_type": "code",
   "execution_count": null,
   "metadata": {
    "ExecuteTime": {
     "end_time": "2020-02-06T04:38:27.961401Z",
     "start_time": "2020-02-06T04:38:27.958596Z"
    }
   },
   "outputs": [],
   "source": [
    "labeled, num_objects = ndimage.label(conv_0 == 2)\n",
    "slices = ndimage.find_objects(labeled)"
   ]
  },
  {
   "cell_type": "markdown",
   "metadata": {},
   "source": [
    "Don't know what these 2 functions do? \n",
    "\n",
    "- label: Label features in an array (here my feature is convection)\n",
    "- find_objects: generate a list of slices for the labeled features (or objects); useful for finding features’ position or dimensions.\n",
    "\n",
    "Here's the documentation on Scipy:\n",
    "[label](https://docs.scipy.org/doc/scipy/reference/generated/scipy.ndimage.label.html#scipy.ndimage.label)"
   ]
  },
  {
   "cell_type": "code",
   "execution_count": null,
   "metadata": {
    "ExecuteTime": {
     "end_time": "2020-02-06T04:38:27.988435Z",
     "start_time": "2020-02-06T04:38:27.962701Z"
    }
   },
   "outputs": [],
   "source": [
    "pixel_area = 2.5 ** 2\n",
    "sl = slices[0]\n",
    "area = pixel_area * np.sum(conv_0[sl] == 2)"
   ]
  },
  {
   "cell_type": "code",
   "execution_count": null,
   "metadata": {
    "ExecuteTime": {
     "end_time": "2020-02-06T04:38:28.154407Z",
     "start_time": "2020-02-06T04:38:27.990239Z"
    }
   },
   "outputs": [],
   "source": [
    "print(f'The area of one of the {num_objects} convective towers is {area} km2.')"
   ]
  },
  {
   "cell_type": "markdown",
   "metadata": {},
   "source": [
    "# Exercise 3\n",
    "\n",
    "Can you compute the area of for all the convective towers and plot the result?"
   ]
  },
  {
   "cell_type": "code",
   "execution_count": null,
   "metadata": {
    "ExecuteTime": {
     "end_time": "2020-02-06T04:38:28.171013Z",
     "start_time": "2020-02-06T04:38:28.157069Z"
    }
   },
   "outputs": [],
   "source": [
    "# Solution :%load solutions/0203.py"
   ]
  },
  {
   "cell_type": "code",
   "execution_count": null,
   "metadata": {},
   "outputs": [],
   "source": []
  }
 ],
 "metadata": {
  "kernelspec": {
   "display_name": "Python 3",
   "language": "python",
   "name": "python3"
  },
  "language_info": {
   "codemirror_mode": {
    "name": "ipython",
    "version": 3
   },
   "file_extension": ".py",
   "mimetype": "text/x-python",
   "name": "python",
   "nbconvert_exporter": "python",
   "pygments_lexer": "ipython3",
   "version": "3.8.5"
  },
  "varInspector": {
   "cols": {
    "lenName": 16,
    "lenType": 16,
    "lenVar": 40
   },
   "kernels_config": {
    "python": {
     "delete_cmd_postfix": "",
     "delete_cmd_prefix": "del ",
     "library": "var_list.py",
     "varRefreshCmd": "print(var_dic_list())"
    },
    "r": {
     "delete_cmd_postfix": ") ",
     "delete_cmd_prefix": "rm(",
     "library": "var_list.r",
     "varRefreshCmd": "cat(var_dic_list()) "
    }
   },
   "types_to_exclude": [
    "module",
    "function",
    "builtin_function_or_method",
    "instance",
    "_Feature"
   ],
   "window_display": false
  }
 },
 "nbformat": 4,
 "nbformat_minor": 4
}
